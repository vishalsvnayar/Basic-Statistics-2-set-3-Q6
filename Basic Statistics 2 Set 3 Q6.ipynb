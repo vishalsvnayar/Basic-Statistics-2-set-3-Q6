{
 "cells": [
  {
   "cell_type": "markdown",
   "id": "631e2ee6",
   "metadata": {},
   "source": [
    "**Q6**.A book publisher monitors the size of shipments of its textbooks to university bookstores. For a sample of texts used at various schools, the 95% confidence interval for the size of the shipment was 250 ± 45 books. Which, if any, of the following interpretations of this interval are correct?\n",
    "\n",
    "A.\tAll shipments are between 205 and 295 books. `Incorrect`\n",
    "\n",
    "B.\t95% of shipments are between 205 and 295 books. `Incorrect`\n",
    "\n",
    "C.\tThe procedure that produced this interval generates ranges that hold the population mean for 95% of samples. `Correct`\n",
    "\n",
    "D.\tIf we get another sample, then we can be 95% sure that the mean of this second sample is between 205 and 295. `Incorrect`\n",
    "\n",
    "E.\tWe can be 95% confident that the range 160 to 340 holds the population mean.`Incorrect`\n"
   ]
  },
  {
   "cell_type": "code",
   "execution_count": null,
   "id": "4ba27d34",
   "metadata": {},
   "outputs": [],
   "source": []
  }
 ],
 "metadata": {
  "kernelspec": {
   "display_name": "Python 3 (ipykernel)",
   "language": "python",
   "name": "python3"
  },
  "language_info": {
   "codemirror_mode": {
    "name": "ipython",
    "version": 3
   },
   "file_extension": ".py",
   "mimetype": "text/x-python",
   "name": "python",
   "nbconvert_exporter": "python",
   "pygments_lexer": "ipython3",
   "version": "3.9.7"
  }
 },
 "nbformat": 4,
 "nbformat_minor": 5
}
